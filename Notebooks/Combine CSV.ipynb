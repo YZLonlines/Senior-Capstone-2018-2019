{
 "cells": [
  {
   "cell_type": "markdown",
   "metadata": {},
   "source": [
    "# Combine CSVs For Processing\n",
    "Combines the CSVs so all relevant data is on one line and the data is placed based on linking keys through the different CSVs\n",
    "\n",
    "Everything from this markdown cell to the next one is just a sanity check to make sure the chunking for the CSVs is not giving an odd output. Don't run unless you have some reason to check."
   ]
  },
  {
   "cell_type": "raw",
   "metadata": {},
   "source": [
    "import pandas as pd\n",
    "import numpy as np\n",
    "import dask.dataframe as dd\n",
    "data_dir = '/home/cole/Workspace/School/Capstone/data/first_data_set/TestData/'"
   ]
  },
  {
   "cell_type": "raw",
   "metadata": {},
   "source": [
    "backup_objects = dd.read_csv(data_dir + 'BACKUP_OBJECTS.csv', dtype={'DEACDATE': 'str','META_UPDATE': 'str','ATTRLENGTH': 'float64','FLAGS': 'float64','STG_HINT': 'float64'})"
   ]
  },
  {
   "cell_type": "raw",
   "metadata": {},
   "source": [
    "AFBF = dd.read_csv(data_dir + 'AF_BITFILES.csv')"
   ]
  },
  {
   "cell_type": "raw",
   "metadata": {},
   "source": [
    "df = backup_objects.merge(AFBF, how='left', left_on ='OBJID', right_on= 'BFID')"
   ]
  },
  {
   "cell_type": "raw",
   "metadata": {},
   "source": [
    "backup_objects_panda = pd.read_csv(data_dir + 'BACKUP_OBJECTS.csv')\n",
    "AFBF_panda = pd.read_csv(data_dir + 'AF_BITFILES.csv')"
   ]
  },
  {
   "cell_type": "raw",
   "metadata": {},
   "source": [
    "df2 = backup_objects_panda.merge(AFBF_panda, how='left', left_on ='OBJID', right_on= 'BFID')"
   ]
  },
  {
   "cell_type": "raw",
   "metadata": {},
   "source": [
    "index_pairs = []\n",
    "for i in AFBF_panda['BFID']:\n",
    "    ret = backup_objects_panda['OBJID'][backup_objects_panda['OBJID']==i]\n",
    "    if len(ret):\n",
    "        index_pairs.append(ret)\n",
    "    if len(index_pairs) >= 10:\n",
    "        break\n",
    "index_pairs"
   ]
  },
  {
   "cell_type": "raw",
   "metadata": {},
   "source": [
    "backup_objects_panda['OBJID'][backup_objects_panda['OBJID']==218050714]"
   ]
  },
  {
   "cell_type": "raw",
   "metadata": {},
   "source": [
    "AFBF_panda['BFID'][AFBF_panda['BFID']==218050714]"
   ]
  },
  {
   "cell_type": "raw",
   "metadata": {},
   "source": [
    "df2.shape"
   ]
  },
  {
   "cell_type": "raw",
   "metadata": {},
   "source": [
    "AFBF_panda.shape"
   ]
  },
  {
   "cell_type": "raw",
   "metadata": {},
   "source": [
    "backup_objects_panda.shape"
   ]
  },
  {
   "cell_type": "raw",
   "metadata": {},
   "source": [
    "backup_objects_panda.iloc[2085893]"
   ]
  },
  {
   "cell_type": "raw",
   "metadata": {},
   "source": [
    "AFBF_panda.iloc[14]"
   ]
  },
  {
   "cell_type": "raw",
   "metadata": {},
   "source": [
    "index_pairs = []\n",
    "for i in AFBF_panda['BFID']:\n",
    "    ret = df2['OBJID'][df2['OBJID']==i]\n",
    "    if len(ret):\n",
    "        index_pairs.append(ret)\n",
    "    if len(index_pairs) >= 10:\n",
    "        break\n",
    "index_pairs"
   ]
  },
  {
   "cell_type": "raw",
   "metadata": {},
   "source": [
    "df2.iloc[2085939]"
   ]
  },
  {
   "cell_type": "raw",
   "metadata": {},
   "source": [
    "backup_objects_panda = []\n",
    "AFBF_panda = []"
   ]
  },
  {
   "cell_type": "raw",
   "metadata": {},
   "source": [
    "df.head()"
   ]
  },
  {
   "cell_type": "raw",
   "metadata": {},
   "source": [
    "df2.head()"
   ]
  },
  {
   "cell_type": "raw",
   "metadata": {},
   "source": [
    "df2.columns"
   ]
  },
  {
   "cell_type": "raw",
   "metadata": {},
   "source": [
    "df.columns"
   ]
  },
  {
   "cell_type": "raw",
   "metadata": {},
   "source": [
    "row = []\n",
    "for label in df.columns:\n",
    "    row.append((label, df[label].compute().iloc[2085939]))"
   ]
  },
  {
   "cell_type": "raw",
   "metadata": {},
   "source": [
    "for i in range(len(df.columns)):\n",
    "    try:\n",
    "        assert df2.iloc[2085939][df.columns[i]] == row[i][1] or (np.isnan(df2.iloc[2085939][df.columns[i]]) and np.isnan(row[i][1]))\n",
    "    except:\n",
    "        print('{} != {} at index : {}'.format(df2.iloc[2085939][df.columns[i]], row[i][1], i))"
   ]
  },
  {
   "cell_type": "markdown",
   "metadata": {},
   "source": [
    "# Combine with Dask\n",
    "\n",
    "We use dask because it automatically chunks data\n",
    "\n",
    "We need to determine what features we want to be able to determine which CSVs we need to merge"
   ]
  },
  {
   "cell_type": "raw",
   "metadata": {
    "scrolled": true
   },
   "source": [
    "import dask.dataframe as dd"
   ]
  },
  {
   "cell_type": "raw",
   "metadata": {},
   "source": [
    "# change to be reflective of your environment\n",
    "data_dir = '/home/cole/Workspace/School/Capstone/data/first_data_set/TestData/'"
   ]
  },
  {
   "cell_type": "raw",
   "metadata": {},
   "source": [
    "BACKUP_OBJECTS = dd.read_csv(data_dir + 'BACKUP_OBJECTS.csv', dtype = {'META_UPDATE': 'str', 'DEACDATE': 'str','ATTRLENGTH': 'float64','FLAGS': 'float64','STG_HINT': 'float64', 'OWNER' : 'str'})\n",
    "AFBF = dd.read_csv(data_dir + 'AF_BITFILES.csv')\n",
    "SDRO = dd.read_csv(data_dir + 'SD_RECON_ORDER.csv')\n",
    "SS_POOLS = dd.read_csv(data_dir + 'SS_POOLS.csv')"
   ]
  },
  {
   "cell_type": "raw",
   "metadata": {},
   "source": [
    "df = BACKUP_OBJECTS.merge(AFBF, how='left', left_on ='OBJID', right_on= 'BFID')"
   ]
  },
  {
   "cell_type": "raw",
   "metadata": {},
   "source": [
    "df = df.merge(SDRO, how='left', left_on ='OBJID', right_on= 'OBJID' )"
   ]
  },
  {
   "cell_type": "raw",
   "metadata": {},
   "source": [
    "df.to_csv(data_dir + 'merged_data/merged_data-*.csv')"
   ]
  },
  {
   "cell_type": "raw",
   "metadata": {},
   "source": []
  },
  {
   "cell_type": "raw",
   "metadata": {},
   "source": [
    "from pyspark import SparkContext\n",
    "from pyspark.sql import SparkSession\n",
    "from pyspark.sql import SQLContext\n",
    "from pyspark.sql.types import IntegerType"
   ]
  },
  {
   "cell_type": "raw",
   "metadata": {},
   "source": [
    "# change to be reflective of your environment\n",
    "data_dir = '/home/cole/Workspace/School/Capstone/data/first_data_set/TestData/'"
   ]
  },
  {
   "cell_type": "raw",
   "metadata": {},
   "source": [
    "# initiates a SparkContext which is necessary for accessing data in Spark\n",
    "sc = SparkContext()\n",
    "sqlContext = SQLContext(sc)\n",
    "# change to match your environment\n",
    "output_dir = data_dir + \"/merge_data\""
   ]
  },
  {
   "cell_type": "raw",
   "metadata": {},
   "source": [
    "SDRO = sqlContext.read.format('com.databricks.spark.csv').option(\"header\", \"true\").load([data_dir + '/SD_RECON_ORDER.csv'])\n",
    "SS_POOLS = sqlContext.read.format('com.databricks.spark.csv').option(\"header\", \"true\").load([data_dir + '/SS_POOLS.csv'])\n",
    "AFBF = sqlContext.read.format('com.databricks.spark.csv').option(\"header\", \"true\").load([data_dir+\"/AF_BITFILES.csv\"])\n",
    "BACKUP_OBJECTS = sqlContext.read.format('com.databricks.spark.csv').option(\"header\", \"true\").load([data_dir+\"/BACKUP_OBJECTS.csv\"])"
   ]
  },
  {
   "cell_type": "raw",
   "metadata": {},
   "source": [
    "full_outer_join = BACKUP_OBJECTS.join(AFBF, BACKUP_OBJECTS.OBJID == AFBF.BFID,how='full') # Could also use 'full_outer'\n",
    "len(full_outer_join.columns)"
   ]
  },
  {
   "cell_type": "raw",
   "metadata": {},
   "source": [
    "full_outer_join = full_outer_join.join(SDRO, ['OBJID'],how='full') # Could also use 'full_outer'"
   ]
  },
  {
   "cell_type": "raw",
   "metadata": {},
   "source": [
    "print(len(full_outer_join.columns))\n",
    "full_outer_join.columns"
   ]
  },
  {
   "cell_type": "raw",
   "metadata": {},
   "source": [
    "SDRO = None\n",
    "SS_POOLS = None\n",
    "AFBF = None\n",
    "BACKUP_OBJECTS = None"
   ]
  },
  {
   "cell_type": "raw",
   "metadata": {},
   "source": [
    "df = full_outer_join\n",
    "df.dtypes"
   ]
  },
  {
   "cell_type": "raw",
   "metadata": {},
   "source": [
    "df = full_outer_join\n",
    "# df.select('POOLID').show(20)"
   ]
  },
  {
   "cell_type": "raw",
   "metadata": {},
   "source": [
    "df = df.filter(df.POOLID. isNotNull())\n",
    "df = df.withColumn(\"POOLID\", df[\"POOLID\"].cast(\"int\"))\n",
    "li = df.select(\"POOLID\").rdd.flatMap(lambda x: x).collect()\n",
    "set(li)"
   ]
  },
  {
   "cell_type": "raw",
   "metadata": {},
   "source": [
    "df = df.filter(df.ATTRLENGTH. isNotNull())\n",
    "df = df.withColumn(\"ATTRLENGTH\", df[\"ATTRLENGTH\"].cast(\"int\"))\n",
    "li = df.select(\"ATTRLENGTH\").rdd.flatMap(lambda x: x).collect()\n",
    "set(li)"
   ]
  },
  {
   "cell_type": "raw",
   "metadata": {},
   "source": [
    "df = df.filter(df.BFSIZE. isNotNull())\n",
    "df = df.withColumn(\"BFSIZE\", df[\"BFSIZE\"].cast(\"int\"))\n",
    "li = df.select(\"BFSIZE\").rdd.flatMap(lambda x: x).collect()\n",
    "set(li)"
   ]
  },
  {
   "cell_type": "raw",
   "metadata": {},
   "source": [
    "df = df.filter(df.HDRSIZE. isNotNull())\n",
    "df = df.withColumn(\"HDRSIZE\", df[\"HDRSIZE\"].cast(\"int\"))\n",
    "li = df.select(\"HDRSIZE\").rdd.flatMap(lambda x: x).collect()\n",
    "set(li)"
   ]
  },
  {
   "cell_type": "raw",
   "metadata": {},
   "source": [
    "df = df.filter(df.POOLID. isNotNull())\n",
    "df = df.withColumn(\"OBJID\", df[\"OBJID\"].cast(\"int\"))"
   ]
  },
  {
   "cell_type": "raw",
   "metadata": {},
   "source": [
    "df.dtypes"
   ]
  },
  {
   "cell_type": "raw",
   "metadata": {},
   "source": [
    "df.select(['OBJID', 'POOLID', 'ATTRLENGTH', 'BFSIZE', 'HDRSIZE']).show(20)"
   ]
  },
  {
   "cell_type": "raw",
   "metadata": {},
   "source": [
    "df.select(\"OBJID\", \"POOLID\", \"ATTRLENGTH\", \"BFSIZE\", \"HDRSIZE\").write.options(header='true').format('com.databricks.spark.csv').save(data_dir + \"/merge_data/4_features\")"
   ]
  },
  {
   "cell_type": "raw",
   "metadata": {},
   "source": [
    "test_df = sqlContext.read.format('com.databricks.spark.csv').option(\"header\", \"true\").load(data_dir+\"merge_data/4_features/*.csv\")\n",
    "test_df.columns"
   ]
  },
  {
   "cell_type": "raw",
   "metadata": {},
   "source": [
    "test_df.show(20)"
   ]
  },
  {
   "cell_type": "raw",
   "metadata": {},
   "source": [
    "sc.stop()"
   ]
  },
  {
   "cell_type": "code",
   "execution_count": 1,
   "metadata": {},
   "outputs": [],
   "source": [
    "from pyspark import SparkContext\n",
    "from pyspark.sql import SparkSession\n",
    "from pyspark.sql import SQLContext\n",
    "from pyspark.sql import functions as F\n",
    "from pyspark.sql.types import IntegerType\n",
    "from pyspark.sql.types import LongType"
   ]
  },
  {
   "cell_type": "code",
   "execution_count": 2,
   "metadata": {},
   "outputs": [],
   "source": [
    "# change to be reflective of your environment\n",
    "data_dir = '/home/cole/Workspace/School/Capstone/data/first_data_set/TestData/'"
   ]
  },
  {
   "cell_type": "code",
   "execution_count": 3,
   "metadata": {},
   "outputs": [],
   "source": [
    "# initiates a SparkContext which is necessary for accessing data in Spark\n",
    "sc = SparkContext()\n",
    "sqlContext = SQLContext(sc)\n",
    "# change to match your environment\n",
    "output_dir = data_dir + \"/merge_data\""
   ]
  },
  {
   "cell_type": "code",
   "execution_count": 4,
   "metadata": {},
   "outputs": [],
   "source": [
    "# based around linking to BACKUP_OBJECTS\n",
    "CSV_Merge_List = {\n",
    "    'NODES' : 'NODEID',\n",
    "    'FILESPACES' : 'FSID',\n",
    "    'AF_BITFILES' : ['OBJID', 'BFID'],\n",
    "    'SD_RECON_ORDER' : 'OBJID',\n",
    "    'SS_POOLS' : 'POOLID',\n",
    "    'SD_CHUNK_LOCATIONS' : 'POOLID',}"
   ]
  },
  {
   "cell_type": "code",
   "execution_count": 5,
   "metadata": {},
   "outputs": [],
   "source": [
    "AFBF = sqlContext.read.format('com.databricks.spark.csv').option(\"header\", \"true\").load([data_dir+\"/AF_BITFILES.csv\"])\n",
    "BACKUP_OBJECTS = sqlContext.read.format('com.databricks.spark.csv').option(\"header\", \"true\").load([data_dir+\"/BACKUP_OBJECTS.csv\"])\n",
    "ARCHIVE_OBJECTS = sqlContext.read.format('com.databricks.spark.csv').option(\"header\", \"true\").load([data_dir+\"/ARCHIVE_OBJECTS.csv\"])\n",
    "FILESPACES = sqlContext.read.format('com.databricks.spark.csv').option(\"header\", \"true\").load([data_dir+\"/FILESPACES.csv\"])\n",
    "NODES = sqlContext.read.format('com.databricks.spark.csv').option(\"header\", \"true\").load([data_dir+\"/NODES.csv\"])\n",
    "SD_CHUNK_COPIES = sqlContext.read.format('com.databricks.spark.csv').option(\"header\", \"true\").load([data_dir+\"/SD_CHUNK_COPIES.csv\"])\n",
    "SD_CHUNK_LOCATIONS = sqlContext.read.format('com.databricks.spark.csv').option(\"header\", \"true\").load([data_dir+\"/SD_CHUNK_LOCATIONS.csv\"])\n",
    "SD_CONTAINERS = sqlContext.read.format('com.databricks.spark.csv').option(\"header\", \"true\").load([data_dir+\"/SD_CONTAINERS.csv\"])\n",
    "SD_NON_DEDUP_LOCATIONS = sqlContext.read.format('com.databricks.spark.csv').option(\"header\", \"true\").load([data_dir+\"/SD_NON_DEDUP_LOCATIONS.csv\"])\n",
    "SDRO = sqlContext.read.format('com.databricks.spark.csv').option(\"header\", \"true\").load([data_dir + '/SD_RECON_ORDER.csv'])\n",
    "SS_POOLS = sqlContext.read.format('com.databricks.spark.csv').option(\"header\", \"true\").load([data_dir + '/SS_POOLS.csv'])\n"
   ]
  },
  {
   "cell_type": "code",
   "execution_count": 6,
   "metadata": {},
   "outputs": [],
   "source": [
    "AFBF = AFBF.withColumn('POOLID', AFBF.POOLID.cast(IntegerType()))\n",
    "SD_CONTAINERS = SD_CONTAINERS.withColumn('POOLID', SD_CONTAINERS.POOLID.cast(IntegerType()))\n",
    "SD_CHUNK_LOCATIONS = SD_CHUNK_LOCATIONS.withColumn('CHUNKID', SD_CHUNK_LOCATIONS.CHUNKID.cast(LongType()))\n",
    "SD_CHUNK_LOCATIONS = SD_CHUNK_LOCATIONS.withColumn('POOLID', SD_CHUNK_LOCATIONS.POOLID.cast(IntegerType()))"
   ]
  },
  {
   "cell_type": "code",
   "execution_count": 7,
   "metadata": {},
   "outputs": [],
   "source": [
    "tape = [row['POOLID'] for row in AFBF.select(\"POOLID\").distinct().collect()]\n",
    "cloud = set([row['POOLID'] for row in SD_CONTAINERS.filter(SD_CONTAINERS.TYPE.rlike('3|4')).select('POOLID').distinct().collect()])\n",
    "directory = set([row['POOLID'] for row in SD_CONTAINERS.filter(SD_CONTAINERS.TYPE.rlike('1|2')).select('POOLID').distinct().collect()]) - cloud"
   ]
  },
  {
   "cell_type": "code",
   "execution_count": 8,
   "metadata": {},
   "outputs": [
    {
     "data": {
      "text/plain": [
       "[-1000000, -1, 6, -9, 72, 4, 82, 135, 42]"
      ]
     },
     "execution_count": 8,
     "metadata": {},
     "output_type": "execute_result"
    }
   ],
   "source": [
    "tape"
   ]
  },
  {
   "cell_type": "code",
   "execution_count": 9,
   "metadata": {},
   "outputs": [
    {
     "data": {
      "text/plain": [
       "{24, 37, 38, 60, 71, 83, 95, 112, 114}"
      ]
     },
     "execution_count": 9,
     "metadata": {},
     "output_type": "execute_result"
    }
   ],
   "source": [
    "cloud"
   ]
  },
  {
   "cell_type": "code",
   "execution_count": 10,
   "metadata": {},
   "outputs": [
    {
     "data": {
      "text/plain": [
       "{27, 138}"
      ]
     },
     "execution_count": 10,
     "metadata": {},
     "output_type": "execute_result"
    }
   ],
   "source": [
    "directory"
   ]
  },
  {
   "cell_type": "raw",
   "metadata": {
    "scrolled": true
   },
   "source": [
    "output = dict.fromkeys(tape,0)\n",
    "output.update(dict.fromkeys(directory, 1))\n",
    "output.update(dict.fromkeys(cloud, 2))\n",
    "print(len(output))\n",
    "output"
   ]
  },
  {
   "cell_type": "code",
   "execution_count": 11,
   "metadata": {},
   "outputs": [],
   "source": [
    "merge = BACKUP_OBJECTS.join(AFBF, BACKUP_OBJECTS['OBJID'] == AFBF['BFID'], how='left')\n",
    "merge = merge.join(SDRO, ['OBJID'], how='left')"
   ]
  },
  {
   "cell_type": "code",
   "execution_count": 12,
   "metadata": {},
   "outputs": [],
   "source": [
    "merge = merge.withColumn('POOLID', merge.POOLID.cast(IntegerType()))\n",
    "merge = merge.withColumn('CHUNKID', merge.CHUNKID.cast(LongType()))"
   ]
  },
  {
   "cell_type": "code",
   "execution_count": 13,
   "metadata": {},
   "outputs": [],
   "source": [
    "# %%timeit\n",
    "cloud_chunkid = []\n",
    "\n",
    "for poolid in cloud:\n",
    "    rows = SD_CHUNK_LOCATIONS.select(SD_CHUNK_LOCATIONS.CHUNKID).filter(F.when(SD_CHUNK_LOCATIONS.POOLID == poolid, True).otherwise(False)).distinct().collect()\n",
    "    cloud_chunkid.extend([row['CHUNKID'] for row in rows])"
   ]
  },
  {
   "cell_type": "raw",
   "metadata": {},
   "source": [
    "%%timeit\n",
    "rows = SD_CHUNK_LOCATIONS.select(SD_CHUNK_LOCATIONS.CHUNKID).filter(F.when(SD_CHUNK_LOCATIONS.POOLID.isin(cloud), True).otherwise(False)).distinct().collect()\n",
    "cloud_chunkid = [row['CHUNKID'] for row in rows]"
   ]
  },
  {
   "cell_type": "code",
   "execution_count": 14,
   "metadata": {},
   "outputs": [],
   "source": [
    "# %%timeit\n",
    "directory_chunkid = []\n",
    "\n",
    "for poolid in directory:\n",
    "    rows = SD_CHUNK_LOCATIONS.select(SD_CHUNK_LOCATIONS.CHUNKID).filter(F.when(SD_CHUNK_LOCATIONS.POOLID == poolid, True).otherwise(False)).distinct().collect()\n",
    "    directory_chunkid.extend([row['CHUNKID'] for row in rows])"
   ]
  },
  {
   "cell_type": "code",
   "execution_count": null,
   "metadata": {},
   "outputs": [],
   "source": [
    "from pyspark.sql.functions import udf\n",
    "def assign_output(poolid, chunkid):\n",
    "    if poolid:\n",
    "        return 0\n",
    "    if chunkid in directory_chunkid:\n",
    "        return 1\n",
    "    elif chunkid:\n",
    "        return 2\n",
    "    else:\n",
    "        return None"
   ]
  },
  {
   "cell_type": "code",
   "execution_count": null,
   "metadata": {},
   "outputs": [],
   "source": [
    "output = udf(assign_output, IntegerType())"
   ]
  },
  {
   "cell_type": "code",
   "execution_count": null,
   "metadata": {},
   "outputs": [
    {
     "name": "stdout",
     "output_type": "stream",
     "text": [
      "CPU times: user 10.9 s, sys: 80 ms, total: 11 s\n",
      "Wall time: 11.2 s\n"
     ]
    }
   ],
   "source": [
    "%%time\n",
    "df_merge = merge.withColumn('OUTPUT', output(merge.POOLID, merge.CHUNKID))"
   ]
  },
  {
   "cell_type": "code",
   "execution_count": null,
   "metadata": {},
   "outputs": [],
   "source": [
    "df_merge.columns"
   ]
  },
  {
   "cell_type": "raw",
   "metadata": {},
   "source": [
    "%%time\n",
    "df_merge = merge.withColumn('Output', F.when(merge.POOLID.isNotNull(), 0).when(merge.CHUNKID.isin(directory_chunkid), 1).when(merge.CHUNKID.isin(cloud_chunkid), 2))"
   ]
  },
  {
   "cell_type": "code",
   "execution_count": null,
   "metadata": {},
   "outputs": [],
   "source": [
    "df_merge.select('OBJID','OUTPUT').show(1000)"
   ]
  },
  {
   "cell_type": "code",
   "execution_count": null,
   "metadata": {},
   "outputs": [],
   "source": [
    "df_merge = df_merge.filter(df_merge.OUTPUT. isNotNull())"
   ]
  },
  {
   "cell_type": "code",
   "execution_count": null,
   "metadata": {},
   "outputs": [],
   "source": [
    "df_merge.select('OBJID','OUTPUT').show(100)"
   ]
  },
  {
   "cell_type": "code",
   "execution_count": null,
   "metadata": {},
   "outputs": [],
   "source": [
    "df_merge.count()"
   ]
  },
  {
   "cell_type": "code",
   "execution_count": null,
   "metadata": {},
   "outputs": [],
   "source": [
    "df_merge.select('OUTPUT').distinct().show()"
   ]
  },
  {
   "cell_type": "code",
   "execution_count": null,
   "metadata": {},
   "outputs": [],
   "source": [
    "df_merge.select('OUTPUT').count()"
   ]
  },
  {
   "cell_type": "code",
   "execution_count": null,
   "metadata": {},
   "outputs": [],
   "source": [
    "directory_chunkid"
   ]
  },
  {
   "cell_type": "raw",
   "metadata": {},
   "source": [
    "%%timeit\n",
    "rows = SD_CHUNK_LOCATIONS.select(SD_CHUNK_LOCATIONS.CHUNKID).filter(F.when(SD_CHUNK_LOCATIONS.POOLID.isin(directory), True).otherwise(False)).distinct().collect()\n",
    "directory_chunkid = [row['CHUNKID'] for row in rows]\n"
   ]
  },
  {
   "cell_type": "raw",
   "metadata": {},
   "source": [
    "df = SD_CHUNK_LOCATIONS\n",
    "df = df.withColumn(\"CHUNKID\", df.CHUNKID.cast(LongType()))\n",
    "df = df.withColumn(\"POOLID\", df.POOLID.cast(IntegerType()))\n",
    "df"
   ]
  },
  {
   "cell_type": "raw",
   "metadata": {},
   "source": [
    "SD_CONTAINERS = SD_CONTAINERS.withColumn('POOLID', SD_CONTAINERS.POOLID.cast(IntegerType()))\n",
    "directoryi = set([row['POOLID'] for row in SD_CONTAINERS.filter(SD_CONTAINERS.TYPE.rlike('1|2')).select('POOLID').distinct().collect()])\n",
    "directoryi"
   ]
  },
  {
   "cell_type": "raw",
   "metadata": {},
   "source": [
    "%%timeit\n",
    "rows = df.select(df.CHUNKID).filter(F.when(df.POOLID.isin(directoryi), True).otherwise(False)).distinct().collect()\n",
    "directory_chunkid = [row['CHUNKID'] for row in rows]"
   ]
  },
  {
   "cell_type": "code",
   "execution_count": null,
   "metadata": {
    "scrolled": false
   },
   "outputs": [],
   "source": [
    "df = SDRO\n",
    "df = df.filter(df.CHUNKID. isNotNull())\n",
    "df = df.withColumn(\"CHUNKID\", df.CHUNKID.cast(LongType()))\n",
    "df.show(10)"
   ]
  },
  {
   "cell_type": "code",
   "execution_count": null,
   "metadata": {},
   "outputs": [],
   "source": [
    "AFBF_POOLID = BACKUP_OBJECTS.join(AFBF, BACKUP_OBJECTS['OBJID'] == AFBF['BFID'], how='left').select('POOLID')"
   ]
  },
  {
   "cell_type": "code",
   "execution_count": null,
   "metadata": {},
   "outputs": [],
   "source": [
    "SDRO_POOLID = BACKUP_OBJECTS.join(SDRO, ['OBJID'], how='left').select('POOLID')"
   ]
  },
  {
   "cell_type": "code",
   "execution_count": null,
   "metadata": {},
   "outputs": [],
   "source": [
    "SDRO.columns"
   ]
  },
  {
   "cell_type": "code",
   "execution_count": null,
   "metadata": {},
   "outputs": [],
   "source": [
    "[row['POOLID'] for row in merge.select(\"POOLID\").distinct().collect()]"
   ]
  },
  {
   "cell_type": "code",
   "execution_count": null,
   "metadata": {},
   "outputs": [],
   "source": [
    "df.groupby('POOLID').apply(mapY)"
   ]
  },
  {
   "cell_type": "code",
   "execution_count": null,
   "metadata": {},
   "outputs": [],
   "source": [
    "directory = set([row['POOLID'] for row in AFBF.select(\"POOLID\").distinct().collect()])\n",
    "tape"
   ]
  },
  {
   "cell_type": "code",
   "execution_count": null,
   "metadata": {},
   "outputs": [],
   "source": [
    "SD_CONTAINERS.columns"
   ]
  },
  {
   "cell_type": "code",
   "execution_count": null,
   "metadata": {},
   "outputs": [],
   "source": [
    "# SD_CONTAINERS.select('POOLID', 'TYPE').show(100)\n",
    "li2 = SD_CONTAINERS.select(\"POOLID\").rdd.flatMap(lambda x: x).collect()\n",
    "# set(li)"
   ]
  },
  {
   "cell_type": "code",
   "execution_count": null,
   "metadata": {},
   "outputs": [],
   "source": [
    "set(li1).intersection(set(li2))"
   ]
  },
  {
   "cell_type": "code",
   "execution_count": null,
   "metadata": {},
   "outputs": [],
   "source": [
    "set(li1).union(set(li2))"
   ]
  },
  {
   "cell_type": "code",
   "execution_count": null,
   "metadata": {},
   "outputs": [],
   "source": [
    "merge = sqlContext.read.format('com.databricks.spark.csv').option(\"header\", \"true\").load([data_dir+\"/BACKUP_OBJECTS.csv\"])\n",
    "\n",
    "for key, value in CSV_Merge_List.items():\n",
    "    print(key, value)\n",
    "    temp = sqlContext.read.format('com.databricks.spark.csv').option(\"header\", \"true\").load([data_dir+\"/\" + key + \".csv\"])\n",
    "    if len(value) == 2:\n",
    "            merge = merge.join(temp, merge[value[0]] == temp[value[1]], how='left')\n",
    "    else:        \n",
    "        merge = merge.join(temp, [value], how='left')"
   ]
  },
  {
   "cell_type": "code",
   "execution_count": null,
   "metadata": {},
   "outputs": [],
   "source": [
    "df = merge\n",
    "df = df.filter(df.POOLID. isNotNull())\n",
    "df = df.withColumn(\"POOLID\", df[\"POOLID\"].cast(\"int\"))\n",
    "df = df.filter(df.ATTRLENGTH. isNotNull())\n",
    "df = df.withColumn(\"ATTRLENGTH\", df[\"ATTRLENGTH\"].cast(\"float\"))\n",
    "df = df.filter(df.BFSIZE. isNotNull())\n",
    "df = df.withColumn(\"BFSIZE\", df[\"BFSIZE\"].cast(\"float\"))\n",
    "df = df.filter(df.HDRSIZE. isNotNull())\n",
    "df = df.withColumn(\"HDRSIZE\", df[\"HDRSIZE\"].cast(\"float\"))\n",
    "df = df.filter(df.OBJID. isNotNull())\n",
    "df = df.withColumn(\"OBJID\", df[\"OBJID\"].cast(\"float\"))\n",
    "df.count()"
   ]
  },
  {
   "cell_type": "code",
   "execution_count": null,
   "metadata": {},
   "outputs": [],
   "source": [
    "# full_outer_join = BACKUP_OBJECTS\n",
    "# full_outer_join = full_outer_join.join(NODES, ['NODEID'], how='left')\n",
    "# full_outer_join = full_outer_join.join(FILESPACES, ['FSID'], how='left')\n",
    "# full_outer_join = full_outer_join.join(AFBF, full_outer_join.OBJID == AFBF.BFID, how='left')\n",
    "# full_outer_join = full_outer_join.join(SDRO, ['OBJID'], how='left')\n",
    "# full_outer_join = full_outer_join.join(SS_POOLS, ['POOLID'], how='left')\n",
    "# full_outer_join = full_outer_join.join(SD_CHUNK_LOCATIONS, ['POOLID'], how='left')"
   ]
  },
  {
   "cell_type": "code",
   "execution_count": null,
   "metadata": {},
   "outputs": [],
   "source": [
    "# df = full_outer_join\n",
    "# df = df.filter(df.POOLID. isNotNull())\n",
    "# df = df.withColumn(\"POOLID\", df[\"POOLID\"].cast(\"int\"))\n",
    "# df = df.filter(df.ATTRLENGTH. isNotNull())\n",
    "# df = df.withColumn(\"ATTRLENGTH\", df[\"ATTRLENGTH\"].cast(\"float\"))\n",
    "# df = df.filter(df.BFSIZE. isNotNull())\n",
    "# df = df.withColumn(\"BFSIZE\", df[\"BFSIZE\"].cast(\"float\"))\n",
    "# df = df.filter(df.HDRSIZE. isNotNull())\n",
    "# df = df.withColumn(\"HDRSIZE\", df[\"HDRSIZE\"].cast(\"float\"))\n",
    "# df = df.filter(df.OBJID. isNotNull())\n",
    "# df = df.withColumn(\"OBJID\", df[\"OBJID\"].cast(\"float\"))"
   ]
  },
  {
   "cell_type": "code",
   "execution_count": null,
   "metadata": {},
   "outputs": [],
   "source": []
  },
  {
   "cell_type": "code",
   "execution_count": null,
   "metadata": {},
   "outputs": [],
   "source": [
    "df.select(\"OBJID\", \"ATTRLENGTH\", \"BFSIZE\", \"HDRSIZE\", \"POOLID\").write.options(header='true').format('com.databricks.spark.csv').save(data_dir + \"/merge_data/4_features\")"
   ]
  },
  {
   "cell_type": "code",
   "execution_count": null,
   "metadata": {},
   "outputs": [],
   "source": []
  },
  {
   "cell_type": "code",
   "execution_count": null,
   "metadata": {},
   "outputs": [],
   "source": [
    "df.count()"
   ]
  },
  {
   "cell_type": "code",
   "execution_count": null,
   "metadata": {},
   "outputs": [],
   "source": [
    "new_df = sqlContext.read.format('com.databricks.spark.csv').option(\"header\", \"true\").load([data_dir+\"//merge_data/4_features/*.csv\"])"
   ]
  },
  {
   "cell_type": "code",
   "execution_count": null,
   "metadata": {},
   "outputs": [],
   "source": [
    "new_df.count()"
   ]
  },
  {
   "cell_type": "code",
   "execution_count": null,
   "metadata": {},
   "outputs": [],
   "source": []
  },
  {
   "cell_type": "code",
   "execution_count": null,
   "metadata": {},
   "outputs": [],
   "source": [
    "sc.stop()"
   ]
  },
  {
   "cell_type": "code",
   "execution_count": null,
   "metadata": {},
   "outputs": [],
   "source": []
  }
 ],
 "metadata": {
  "kernelspec": {
   "display_name": "Python 3",
   "language": "python",
   "name": "python3"
  },
  "language_info": {
   "codemirror_mode": {
    "name": "ipython",
    "version": 3
   },
   "file_extension": ".py",
   "mimetype": "text/x-python",
   "name": "python",
   "nbconvert_exporter": "python",
   "pygments_lexer": "ipython3",
   "version": "3.6.8"
  }
 },
 "nbformat": 4,
 "nbformat_minor": 2
}
