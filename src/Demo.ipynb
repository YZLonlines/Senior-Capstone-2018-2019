{
 "cells": [
  {
   "cell_type": "code",
   "execution_count": 1,
   "metadata": {},
   "outputs": [],
   "source": [
    "import Driver"
   ]
  },
  {
   "cell_type": "code",
   "execution_count": 2,
   "metadata": {},
   "outputs": [
    {
     "name": "stdout",
     "output_type": "stream",
     "text": [
      "2019-03-14 03:49:12 WARN  Utils:66 - Your hostname, Nexus resolves to a loopback address: 127.0.1.1; using 192.168.0.14 instead (on interface enp3s0)\n",
      "2019-03-14 03:49:12 WARN  Utils:66 - Set SPARK_LOCAL_IP if you need to bind to another address\n",
      "2019-03-14 03:49:13 WARN  NativeCodeLoader:62 - Unable to load native-hadoop library for your platform... using builtin-java classes where applicable\n",
      "Setting default log level to \"WARN\".\n",
      "To adjust logging level use sc.setLogLevel(newLevel). For SparkR, use setLogLevel(newLevel).\n",
      "Making predictions on validation data                                           \n",
      "Evaluating accuracy\n",
      "Evaluating f1                                                                   \n",
      "Evaluating weightedPrecision                                                    \n",
      "Evaluating weightedRecall                                                       \n",
      "accuracy 0.9804454977690176                                                     \n",
      "f1 0.9803395543869596\n",
      "weightedPrecision 0.9806635037338816\n",
      "weightedRecall 0.9804454977690176\n",
      "Random Forests                                                                  \n",
      "['BFSIZE', 'HDRSIZE', 'METADATASIZE', 'NODESTATE', 'NODETYPE']\n",
      "Data distribution\n",
      "Total Observations 44633877\n",
      " Cloud %46.95639816366389\n",
      " Disk %53.019180923942585\n",
      " Tape %0.024420912393516698\n",
      "\n",
      " Test Error = 1.955450223098243\n",
      " Test Accuracy = 98.04454977690176\n",
      "\n",
      "Error distribution\n",
      " Cloud Misses %0.47820794850777654                                              \n",
      " Disk Misses %3.2185215795896718\n",
      " Tape Misses %100.0\n",
      "Saving model to /home/cole/Workspace/School/Capstone/data/models/RandomForest/BFSIZE_HDRSIZE_METADATASIZE_NODESTATE_NODETYPE_5_20\n",
      "                                                                                \r"
     ]
    }
   ],
   "source": [
    "!python Driver.py 'BFSIZE HDRSIZE NODETYPE NODESTATE METADATASIZE' RandomForest --numTrees 20 --maxDepth 5 --overwrite --overwrite_model"
   ]
  },
  {
   "cell_type": "code",
   "execution_count": 3,
   "metadata": {},
   "outputs": [
    {
     "name": "stdout",
     "output_type": "stream",
     "text": [
      "2019-03-14 04:24:19 WARN  Utils:66 - Your hostname, Nexus resolves to a loopback address: 127.0.1.1; using 192.168.0.14 instead (on interface enp3s0)\n",
      "2019-03-14 04:24:19 WARN  Utils:66 - Set SPARK_LOCAL_IP if you need to bind to another address\n",
      "2019-03-14 04:24:20 WARN  NativeCodeLoader:62 - Unable to load native-hadoop library for your platform... using builtin-java classes where applicable\n",
      "Setting default log level to \"WARN\".\n",
      "To adjust logging level use sc.setLogLevel(newLevel). For SparkR, use setLogLevel(newLevel).\n",
      "Using multiclass data already available\n",
      "Loading model from /home/cole/Workspace/School/Capstone/data/models/RandomForest/BFSIZE_HDRSIZE_METADATASIZE_NODESTATE_NODETYPE_5_20\n",
      "Making predictions on validation data\n",
      "Evaluating accuracy\n",
      "Evaluating f1                                                                   \n",
      "Evaluating weightedPrecision                                                    \n",
      "Evaluating weightedRecall                                                       \n",
      "accuracy 0.9804845499887908                                                     \n",
      "f1 0.9803771253003668\n",
      "weightedPrecision 0.9806984790781129\n",
      "weightedRecall 0.9804845499887909\n",
      "Random Forests                                                                  \n",
      "['BFSIZE', 'HDRSIZE', 'METADATASIZE', 'NODESTATE', 'NODETYPE']\n",
      "Data distribution\n",
      "Total Observations 44633877\n",
      " Cloud %46.95639816366389\n",
      " Disk %53.019180923942585\n",
      " Tape %0.024420912393516698\n",
      "\n",
      " Test Error = 1.9515450011209245\n",
      " Test Accuracy = 98.04845499887908\n",
      "\n",
      "Error distribution\n",
      " Cloud Misses %0.47573417077301794                                              \n",
      " Disk Misses %3.213155396658717\n",
      " Tape Misses %100.0\n"
     ]
    }
   ],
   "source": [
    "!python Driver.py 'BFSIZE HDRSIZE NODETYPE NODESTATE METADATASIZE' RandomForest --numTrees 20 --maxDepth 5"
   ]
  },
  {
   "cell_type": "code",
   "execution_count": 4,
   "metadata": {
    "scrolled": true
   },
   "outputs": [
    {
     "name": "stdout",
     "output_type": "stream",
     "text": [
      "2019-03-14 04:35:41 WARN  Utils:66 - Your hostname, Nexus resolves to a loopback address: 127.0.1.1; using 192.168.0.14 instead (on interface enp3s0)\n",
      "2019-03-14 04:35:41 WARN  Utils:66 - Set SPARK_LOCAL_IP if you need to bind to another address\n",
      "2019-03-14 04:35:41 WARN  NativeCodeLoader:62 - Unable to load native-hadoop library for your platform... using builtin-java classes where applicable\n",
      "Setting default log level to \"WARN\".\n",
      "To adjust logging level use sc.setLogLevel(newLevel). For SparkR, use setLogLevel(newLevel).\n",
      "Making predictions on validation data                                           \n",
      "Evaluating areaUnderROC\n",
      "Evaluating areaUnderPR                                                          \n",
      "Linear SVC                                                                      \n",
      "['BFSIZE', 'HDRSIZE', 'METADATASIZE', 'NODETYPE']\n",
      "Data distribution\n",
      "Total Observations 44622977\n",
      " Cloud %46.96786814559683\n",
      " Disk %53.032131854403175\n",
      " Test AUC = 78.44829116937699\n",
      "\n",
      "Error distribution\n",
      " Cloud Misses %95.79372324251426                                                \n",
      " Disk Misses %0.3156222442238085\n"
     ]
    }
   ],
   "source": [
    "!python Driver.py 'BFSIZE HDRSIZE NODETYPE METADATASIZE' LinearSVC --maxIter 10 --regParam 0.3 --threshold 0.5 --overwrite --overwrite_model"
   ]
  },
  {
   "cell_type": "code",
   "execution_count": 5,
   "metadata": {},
   "outputs": [
    {
     "name": "stdout",
     "output_type": "stream",
     "text": [
      "2019-03-14 05:11:58 WARN  Utils:66 - Your hostname, Nexus resolves to a loopback address: 127.0.1.1; using 192.168.0.14 instead (on interface enp3s0)\n",
      "2019-03-14 05:11:58 WARN  Utils:66 - Set SPARK_LOCAL_IP if you need to bind to another address\n",
      "2019-03-14 05:11:59 WARN  NativeCodeLoader:62 - Unable to load native-hadoop library for your platform... using builtin-java classes where applicable\n",
      "Setting default log level to \"WARN\".\n",
      "To adjust logging level use sc.setLogLevel(newLevel). For SparkR, use setLogLevel(newLevel).\n",
      "Using binary data already available\n",
      "Making predictions on validation data                                           \n",
      "Evaluating areaUnderROC\n",
      "Evaluating areaUnderPR                                                          \n",
      "Linear SVC                                                                      \n",
      "['BFSIZE', 'HDRSIZE', 'METADATASIZE', 'NODETYPE']\n",
      "Data distribution\n",
      "Total Observations 44622977\n",
      " Cloud %46.96786814559683\n",
      " Disk %53.032131854403175\n",
      " Test AUC = 78.42938476207682\n",
      "\n",
      "Error distribution\n",
      " Cloud Misses %93.57533992196939                                                \n",
      " Disk Misses %0.31728539336728206\n"
     ]
    }
   ],
   "source": [
    "!python Driver.py 'BFSIZE HDRSIZE NODETYPE METADATASIZE' LinearSVC --maxIter 10 --regParam 0.3 --threshold 0.5"
   ]
  }
 ],
 "metadata": {
  "kernelspec": {
   "display_name": "Python 3",
   "language": "python",
   "name": "python3"
  },
  "language_info": {
   "codemirror_mode": {
    "name": "ipython",
    "version": 3
   },
   "file_extension": ".py",
   "mimetype": "text/x-python",
   "name": "python",
   "nbconvert_exporter": "python",
   "pygments_lexer": "ipython3",
   "version": "3.6.8"
  }
 },
 "nbformat": 4,
 "nbformat_minor": 2
}
